{
 "cells": [
  {
   "cell_type": "markdown",
   "id": "4298c961",
   "metadata": {},
   "source": [
    "Strings parte 02"
   ]
  },
  {
   "cell_type": "code",
   "execution_count": 1,
   "id": "147e2568",
   "metadata": {},
   "outputs": [
    {
     "name": "stdout",
     "output_type": "stream",
     "text": [
      "Kauã tem 29 anos e 2 filhos.\n"
     ]
    }
   ],
   "source": [
    "nome = \"Kauã\"\n",
    "idade = 29\n",
    "n_filhos = 2\n",
    "print (nome + ' tem ' + str(idade) + ' anos e ' + str(n_filhos) + ' filhos.')\n"
   ]
  },
  {
   "cell_type": "code",
   "execution_count": 2,
   "id": "8c0b468e",
   "metadata": {},
   "outputs": [
    {
     "name": "stdout",
     "output_type": "stream",
     "text": [
      "Kauã tem 29 anos e 2 filhos.\n"
     ]
    }
   ],
   "source": [
    "print ('{} tem {} anos e {} filhos.'.format(nome, idade, n_filhos))"
   ]
  },
  {
   "cell_type": "code",
   "execution_count": 3,
   "id": "c9dc9702",
   "metadata": {},
   "outputs": [
    {
     "name": "stdout",
     "output_type": "stream",
     "text": [
      "O preço da gasolina subiu e está R$ 3.48\n"
     ]
    }
   ],
   "source": [
    "preco_gasolina = 3.476\n",
    "print ('O preço da gasolina subiu e está R$ {:.2f}'.format(preco_gasolina))"
   ]
  },
  {
   "cell_type": "code",
   "execution_count": 4,
   "id": "eb6fb61d",
   "metadata": {},
   "outputs": [
    {
     "name": "stdout",
     "output_type": "stream",
     "text": [
      "Kauã tem 29 anos e 2 filhos.\n"
     ]
    }
   ],
   "source": [
    "print (f'{nome} tem {idade} anos e {n_filhos} filhos.')"
   ]
  },
  {
   "cell_type": "markdown",
   "id": "1d1e757e",
   "metadata": {},
   "source": [
    "Dicionario"
   ]
  },
  {
   "cell_type": "code",
   "execution_count": 5,
   "id": "7e3a4a34",
   "metadata": {},
   "outputs": [],
   "source": [
    "dicio = {\"cores\": \"titulos_filmes\", \"Indigo\": \"Jerichow\", \"Fuscia\": \"Looking for Hortense (Cherchez Hortense) \", \"Red\": \"Teenage Caveman\", \"Green\": \"Me Two (Personne aux deux personnes La)\", \"Yellow\": \"7 Khoon Maaf\"}"
   ]
  },
  {
   "cell_type": "code",
   "execution_count": 6,
   "id": "0c9ead3e",
   "metadata": {},
   "outputs": [
    {
     "name": "stdout",
     "output_type": "stream",
     "text": [
      "{'cores': 'titulos_filmes', 'Indigo': 'Jerichow', 'Fuscia': 'Looking for Hortense (Cherchez Hortense) ', 'Red': 'Teenage Caveman', 'Green': 'Me Two (Personne aux deux personnes La)', 'Yellow': '7 Khoon Maaf'}\n"
     ]
    }
   ],
   "source": [
    "print(dicio)\n"
   ]
  },
  {
   "cell_type": "code",
   "execution_count": 7,
   "id": "01291b8b",
   "metadata": {},
   "outputs": [
    {
     "name": "stdout",
     "output_type": "stream",
     "text": [
      "titulos_filmes\n"
     ]
    }
   ],
   "source": [
    "print(dicio[\"cores\"])"
   ]
  },
  {
   "cell_type": "code",
   "execution_count": 9,
   "id": "a2c6aaf8",
   "metadata": {},
   "outputs": [
    {
     "name": "stdout",
     "output_type": "stream",
     "text": [
      "6\n"
     ]
    }
   ],
   "source": [
    "print(len(dicio))"
   ]
  }
 ],
 "metadata": {
  "kernelspec": {
   "display_name": "Python 3.9.13 64-bit (microsoft store)",
   "language": "python",
   "name": "python3"
  },
  "language_info": {
   "codemirror_mode": {
    "name": "ipython",
    "version": 3
   },
   "file_extension": ".py",
   "mimetype": "text/x-python",
   "name": "python",
   "nbconvert_exporter": "python",
   "pygments_lexer": "ipython3",
   "version": "3.9.13"
  },
  "vscode": {
   "interpreter": {
    "hash": "3b3835be260164eeba554bc19f29c878e00523816e5d796517ac2a0ae4bba131"
   }
  }
 },
 "nbformat": 4,
 "nbformat_minor": 5
}
