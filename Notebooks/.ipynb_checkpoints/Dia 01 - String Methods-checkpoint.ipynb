{
 "cells": [
  {
   "cell_type": "markdown",
   "metadata": {},
   "source": [
    "Métodos de uma string"
   ]
  },
  {
   "cell_type": "code",
   "execution_count": 1,
   "metadata": {},
   "outputs": [
    {
     "name": "stdout",
     "output_type": "stream",
     "text": [
      "Rafaela\n"
     ]
    }
   ],
   "source": [
    "#capitalize\n",
    "nome = \"rafaela\"\n",
    "nome2 = nome.capitalize()\n",
    "print(nome2)\n"
   ]
  },
  {
   "cell_type": "code",
   "execution_count": 2,
   "metadata": {},
   "outputs": [
    {
     "name": "stdout",
     "output_type": "stream",
     "text": [
      "rafaela\n"
     ]
    }
   ],
   "source": [
    "#case folding\n",
    "nome = \"RAFAELA\"\n",
    "nome2 = nome.casefold()\n",
    "print(nome2)"
   ]
  },
  {
   "cell_type": "code",
   "execution_count": 3,
   "metadata": {},
   "outputs": [
    {
     "name": "stdout",
     "output_type": "stream",
     "text": [
      "A nova string é;           Rafaela Ribeiro          \n"
     ]
    }
   ],
   "source": [
    "nome = \"Rafaela Ribeiro\"\n",
    "nome2 = nome.center(35)\n",
    "print(\"A nova string é;\", nome2)"
   ]
  },
  {
   "cell_type": "code",
   "execution_count": 4,
   "metadata": {},
   "outputs": [
    {
     "name": "stdout",
     "output_type": "stream",
     "text": [
      "a aparece 3 vezes\n"
     ]
    }
   ],
   "source": [
    "#count\n",
    "nome = \"Rafaela Ribeiro\"\n",
    "nome2 = nome.count(\"a\")\n",
    "print(\"a aparece\", nome2, \"vezes\")"
   ]
  },
  {
   "cell_type": "code",
   "execution_count": 5,
   "metadata": {},
   "outputs": [
    {
     "name": "stdout",
     "output_type": "stream",
     "text": [
      "b'RAFAELA'\n",
      "<class 'bytes'>\n"
     ]
    }
   ],
   "source": [
    "#encode\n",
    "nome = \"RAFAELA\"\n",
    "nome2 = nome.encode()\n",
    "print(nome2)\n",
    "print(type(nome2))"
   ]
  },
  {
   "cell_type": "code",
   "execution_count": 6,
   "metadata": {},
   "outputs": [
    {
     "name": "stdout",
     "output_type": "stream",
     "text": [
      "False\n"
     ]
    }
   ],
   "source": [
    "#ends with\n",
    "nome = \"RAFAELA\"\n",
    "nome2 = nome.endswith(\"B\")\n",
    "print(nome2)"
   ]
  },
  {
   "cell_type": "code",
   "execution_count": 7,
   "metadata": {},
   "outputs": [
    {
     "name": "stdout",
     "output_type": "stream",
     "text": [
      "R\ta\tf\ta\n",
      "R       a       f       a\n",
      "R a f a\n",
      "R   a   f   a\n",
      "R       a       f       a\n"
     ]
    }
   ],
   "source": [
    "#expandtabs\n",
    "nome = \"R\\ta\\tf\\ta\"\n",
    "\n",
    "print(nome)\n",
    "print(nome.expandtabs())\n",
    "print(nome.expandtabs(2))\n",
    "print(nome.expandtabs(4))\n",
    "print(nome.expandtabs(8))"
   ]
  },
  {
   "cell_type": "code",
   "execution_count": 8,
   "metadata": {},
   "outputs": [
    {
     "name": "stdout",
     "output_type": "stream",
     "text": [
      "9\n"
     ]
    }
   ],
   "source": [
    "#find retona a posicao onde uma string foi encontrada\n",
    "nome = \"RAFAELA SILVA RIBEIRO\"\n",
    "nome2 = nome.find(\"I\")\n",
    "print(nome2)"
   ]
  }
 ],
 "metadata": {
  "kernelspec": {
   "display_name": "Python 3 (ipykernel)",
   "language": "python",
   "name": "python3"
  },
  "language_info": {
   "codemirror_mode": {
    "name": "ipython",
    "version": 3
   },
   "file_extension": ".py",
   "mimetype": "text/x-python",
   "name": "python",
   "nbconvert_exporter": "python",
   "pygments_lexer": "ipython3",
   "version": "3.9.12"
  },
  "vscode": {
   "interpreter": {
    "hash": "3b3835be260164eeba554bc19f29c878e00523816e5d796517ac2a0ae4bba131"
   }
  }
 },
 "nbformat": 4,
 "nbformat_minor": 2
}
