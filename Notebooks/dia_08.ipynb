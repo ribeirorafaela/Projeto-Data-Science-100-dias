{
 "cells": [
  {
   "cell_type": "markdown",
   "id": "35d1e5d7",
   "metadata": {},
   "source": [
    "Estruturas Sequenciais\n"
   ]
  },
  {
   "cell_type": "code",
   "execution_count": 14,
   "id": "039ea6c1",
   "metadata": {},
   "outputs": [
    {
     "ename": "KeyboardInterrupt",
     "evalue": "Interrupted by user",
     "output_type": "error",
     "traceback": [
      "\u001b[1;31m---------------------------------------------------------------------------\u001b[0m",
      "\u001b[1;31mKeyboardInterrupt\u001b[0m                         Traceback (most recent call last)",
      "\u001b[1;32mc:\\Users\\rafae\\OneDrive - SmartKeys\\Documentos\\Projeto-Data-Science-100-dias\\Notebooks\\Dia 08 Estruturas Sequenciais.ipynb Célula: 2\u001b[0m in \u001b[0;36m<cell line: 1>\u001b[1;34m()\u001b[0m\n\u001b[1;32m----> <a href='vscode-notebook-cell:/c%3A/Users/rafae/OneDrive%20-%20SmartKeys/Documentos/Projeto-Data-Science-100-dias/Notebooks/Dia%2008%20Estruturas%20Sequenciais.ipynb#W1sZmlsZQ%3D%3D?line=0'>1</a>\u001b[0m salario_mensal \u001b[39m=\u001b[39m \u001b[39mfloat\u001b[39m(\u001b[39minput\u001b[39;49m (\u001b[39m\"\u001b[39;49m\u001b[39mQual é o seu salário mensal?\u001b[39;49m\u001b[39m\"\u001b[39;49m))\n\u001b[0;32m      <a href='vscode-notebook-cell:/c%3A/Users/rafae/OneDrive%20-%20SmartKeys/Documentos/Projeto-Data-Science-100-dias/Notebooks/Dia%2008%20Estruturas%20Sequenciais.ipynb#W1sZmlsZQ%3D%3D?line=1'>2</a>\u001b[0m media_de_gastos_mensal \u001b[39m=\u001b[39m \u001b[39mfloat\u001b[39m(\u001b[39minput\u001b[39m (\u001b[39m\"\u001b[39m\u001b[39mQuanto você gasta em média por mês?\u001b[39m\u001b[39m\"\u001b[39m))\n\u001b[0;32m      <a href='vscode-notebook-cell:/c%3A/Users/rafae/OneDrive%20-%20SmartKeys/Documentos/Projeto-Data-Science-100-dias/Notebooks/Dia%2008%20Estruturas%20Sequenciais.ipynb#W1sZmlsZQ%3D%3D?line=3'>4</a>\u001b[0m salario_total \u001b[39m=\u001b[39m salario_mensal \u001b[39m*\u001b[39m \u001b[39m12\u001b[39m\n",
      "File \u001b[1;32m~\\AppData\\Local\\Packages\\PythonSoftwareFoundation.Python.3.9_qbz5n2kfra8p0\\LocalCache\\local-packages\\Python39\\site-packages\\ipykernel\\kernelbase.py:1161\u001b[0m, in \u001b[0;36mKernel.raw_input\u001b[1;34m(self, prompt)\u001b[0m\n\u001b[0;32m   1157\u001b[0m \u001b[39mif\u001b[39;00m \u001b[39mnot\u001b[39;00m \u001b[39mself\u001b[39m\u001b[39m.\u001b[39m_allow_stdin:\n\u001b[0;32m   1158\u001b[0m     \u001b[39mraise\u001b[39;00m StdinNotImplementedError(\n\u001b[0;32m   1159\u001b[0m         \u001b[39m\"\u001b[39m\u001b[39mraw_input was called, but this frontend does not support input requests.\u001b[39m\u001b[39m\"\u001b[39m\n\u001b[0;32m   1160\u001b[0m     )\n\u001b[1;32m-> 1161\u001b[0m \u001b[39mreturn\u001b[39;00m \u001b[39mself\u001b[39;49m\u001b[39m.\u001b[39;49m_input_request(\n\u001b[0;32m   1162\u001b[0m     \u001b[39mstr\u001b[39;49m(prompt),\n\u001b[0;32m   1163\u001b[0m     \u001b[39mself\u001b[39;49m\u001b[39m.\u001b[39;49m_parent_ident[\u001b[39m\"\u001b[39;49m\u001b[39mshell\u001b[39;49m\u001b[39m\"\u001b[39;49m],\n\u001b[0;32m   1164\u001b[0m     \u001b[39mself\u001b[39;49m\u001b[39m.\u001b[39;49mget_parent(\u001b[39m\"\u001b[39;49m\u001b[39mshell\u001b[39;49m\u001b[39m\"\u001b[39;49m),\n\u001b[0;32m   1165\u001b[0m     password\u001b[39m=\u001b[39;49m\u001b[39mFalse\u001b[39;49;00m,\n\u001b[0;32m   1166\u001b[0m )\n",
      "File \u001b[1;32m~\\AppData\\Local\\Packages\\PythonSoftwareFoundation.Python.3.9_qbz5n2kfra8p0\\LocalCache\\local-packages\\Python39\\site-packages\\ipykernel\\kernelbase.py:1205\u001b[0m, in \u001b[0;36mKernel._input_request\u001b[1;34m(self, prompt, ident, parent, password)\u001b[0m\n\u001b[0;32m   1202\u001b[0m             \u001b[39mbreak\u001b[39;00m\n\u001b[0;32m   1203\u001b[0m \u001b[39mexcept\u001b[39;00m \u001b[39mKeyboardInterrupt\u001b[39;00m:\n\u001b[0;32m   1204\u001b[0m     \u001b[39m# re-raise KeyboardInterrupt, to truncate traceback\u001b[39;00m\n\u001b[1;32m-> 1205\u001b[0m     \u001b[39mraise\u001b[39;00m \u001b[39mKeyboardInterrupt\u001b[39;00m(\u001b[39m\"\u001b[39m\u001b[39mInterrupted by user\u001b[39m\u001b[39m\"\u001b[39m) \u001b[39mfrom\u001b[39;00m \u001b[39mNone\u001b[39m\n\u001b[0;32m   1206\u001b[0m \u001b[39mexcept\u001b[39;00m \u001b[39mException\u001b[39;00m:\n\u001b[0;32m   1207\u001b[0m     \u001b[39mself\u001b[39m\u001b[39m.\u001b[39mlog\u001b[39m.\u001b[39mwarning(\u001b[39m\"\u001b[39m\u001b[39mInvalid Message:\u001b[39m\u001b[39m\"\u001b[39m, exc_info\u001b[39m=\u001b[39m\u001b[39mTrue\u001b[39;00m)\n",
      "\u001b[1;31mKeyboardInterrupt\u001b[0m: Interrupted by user"
     ]
    }
   ],
   "source": [
    "salario_mensal = float(input (\"Qual é o seu salário mensal?\"))\n",
    "media_de_gastos_mensal = float(input (\"Quanto você gasta em média por mês?\"))\n",
    "\n",
    "salario_total = salario_mensal * 12\n",
    "gasto_total = media_de_gastos_mensal * 12\n",
    "\n",
    "total_economizado = salario_total - gasto_total\n",
    "print(\"O total economizado no ano é R$\" , total_economizado)"
   ]
  },
  {
   "cell_type": "markdown",
   "id": "d0186fb2",
   "metadata": {},
   "source": [
    "Estruturas Condicionais"
   ]
  },
  {
   "cell_type": "code",
   "execution_count": null,
   "id": "eec7759a",
   "metadata": {},
   "outputs": [
    {
     "name": "stdout",
     "output_type": "stream",
     "text": [
      "Vá de busão\n"
     ]
    }
   ],
   "source": [
    "valor_passagem = 4.95\n",
    "valor_corrida = float(input(\"Qual é o valor da corrida?\"))\n",
    "\n",
    "if valor_corrida <= valor_passagem * 3:\n",
    "    print(\"Pegue a corrida\")\n",
    "elif valor_corrida <= valor_passagem * 4:\n",
    "    print(\"Aguarde um pouco, o valor pode abaixar\")\n",
    "else:\n",
    "    print(\"Vá de busão\")"
   ]
  },
  {
   "cell_type": "markdown",
   "id": "4320189a",
   "metadata": {},
   "source": [
    "Estruturas  de  Repetição"
   ]
  },
  {
   "cell_type": "code",
   "execution_count": null,
   "id": "d57c8334",
   "metadata": {},
   "outputs": [
    {
     "name": "stdout",
     "output_type": "stream",
     "text": [
      "1 item limpo\n",
      "2 itens limpos\n",
      "3 itens limpos\n",
      "4 itens limpos\n",
      "5 itens limpos\n",
      "6 itens limpos\n",
      "7 itens limpos\n",
      "8 itens limpos\n",
      "9 itens limpos\n",
      "10 itens limpos\n",
      "Você já limpou tudo\n"
     ]
    }
   ],
   "source": [
    "contador = 0\n",
    "while contador < 10:\n",
    "    contador = contador + 1\n",
    "    if contador == 1:\n",
    "        print( contador, \"item limpo\")\n",
    "    else:\n",
    "        print( contador, \"itens limpos\")\n",
    "print(\"Você já limpou tudo\")"
   ]
  },
  {
   "cell_type": "code",
   "execution_count": null,
   "id": "31efc34e",
   "metadata": {},
   "outputs": [
    {
     "name": "stdout",
     "output_type": "stream",
     "text": [
      "1 item limpo\n",
      "2 itens limpos\n",
      "3 itens limpos\n",
      "4 itens limpos\n",
      "5 itens limpos\n",
      "6 itens limpos\n",
      "7 itens limpos\n",
      "8 itens limpos\n",
      "9 itens limpos\n",
      "10 itens limpos\n",
      "11 itens limpos\n",
      "Você já limpou tudo\n"
     ]
    }
   ],
   "source": [
    "contador = 0\n",
    "while True:\n",
    "    if contador <= 10:\n",
    "        contador = contador + 1\n",
    "        if contador == 1:\n",
    "            print( contador, \"item limpo\")\n",
    "        else:\n",
    "             print( contador, \"itens limpos\")\n",
    "    else:\n",
    "        break\n",
    "print(\"Você já limpou tudo\")"
   ]
  },
  {
   "cell_type": "code",
   "execution_count": null,
   "id": "cef6f994",
   "metadata": {},
   "outputs": [
    {
     "name": "stdout",
     "output_type": "stream",
     "text": [
      "Acesso permitido...\n"
     ]
    }
   ],
   "source": [
    "texto = input(\"Digite a senha:\")\n",
    "\n",
    "while texto != \"Rafaela123\":\n",
    "    texto = input(\"Senha incorreta! Digite a senha:\")\n",
    "    \n",
    "print(\"Acesso permitido...\")"
   ]
  },
  {
   "cell_type": "code",
   "execution_count": 16,
   "id": "f07a9043",
   "metadata": {},
   "outputs": [
    {
     "name": "stdout",
     "output_type": "stream",
     "text": [
      "2 itens limpos\n",
      "3 itens limpos\n",
      "4 itens limpos\n",
      "5 itens limpos\n",
      "6 itens limpos\n",
      "7 itens limpos\n",
      "8 itens limpos\n",
      "9 itens limpos\n",
      "10 itens limpos\n",
      "Você já limpou tudo\n"
     ]
    }
   ],
   "source": [
    "contador = 0\n",
    "while contador < 10:\n",
    "    contador = contador + 1\n",
    "    if contador == 1:\n",
    "        continue\n",
    "    print( contador, \"itens limpos\")\n",
    "print(\"Você já limpou tudo\")"
   ]
  }
 ],
 "metadata": {
  "kernelspec": {
   "display_name": "Python 3.9.13 64-bit (microsoft store)",
   "language": "python",
   "name": "python3"
  },
  "language_info": {
   "codemirror_mode": {
    "name": "ipython",
    "version": 3
   },
   "file_extension": ".py",
   "mimetype": "text/x-python",
   "name": "python",
   "nbconvert_exporter": "python",
   "pygments_lexer": "ipython3",
   "version": "3.9.13"
  },
  "vscode": {
   "interpreter": {
    "hash": "3b3835be260164eeba554bc19f29c878e00523816e5d796517ac2a0ae4bba131"
   }
  }
 },
 "nbformat": 4,
 "nbformat_minor": 5
}
