{
 "cells": [
  {
   "cell_type": "markdown",
   "id": "3ef7e4bd",
   "metadata": {},
   "source": [
    "# Manipulando arquivos\n"
   ]
  },
  {
   "cell_type": "code",
   "execution_count": 4,
   "id": "040baea7",
   "metadata": {},
   "outputs": [
    {
     "name": "stdout",
     "output_type": "stream",
     "text": [
      "Vídeo aula\n",
      "https://www.youtube.com/watch?v=1m9u10eJ3Mk\n",
      "\n",
      "Receitas para manipular arquivos de texto em Python\n",
      "Receitas rápidas e práticas para quem está com pressa.\n",
      "\n",
      "Se você está tranquilo e quiser entendê-las, sugiro a leitura do artigo Manipulando arquivos de texto em Python.\n",
      "\n",
      "Iterar sobre um arquivo\n",
      "Certifique-se de que o arquivo exista.\n",
      "\n",
      "arquivo = open('arquivo.txt', 'r')\n",
      "for linha in arquivo:\n",
      "    print(linha)\n",
      "arquivo.close()\n",
      "Ler todas as linhas em um única string\n",
      "arquivo = open('arquivo.txt', 'r')\n",
      "unica_string = arquivo.read()\n",
      "arquivo.close()\n",
      "Ler todas as linhas em uma lista\n",
      "arquivo = open('arquivo.txt', 'r')\n",
      "lista = arquivo.readlines() # readlinesssssss\n",
      "arquivo.close()\n",
      "Ler linha a linha do arquivo\n",
      "arquivo = open('arquivo.txt', 'r')\n",
      "primeira_linha = arquivo.readline()\n",
      "segunda_linha  = arquivo.readline()\n",
      "terceira_linha = arquivo.readline()\n",
      "# etc...\n",
      "arquivo.close()\n",
      "Criar um arquivo vazio\n",
      "Certifique-se de que o arquivo não exista, se não ele irá apagar seu conteúdo.\n",
      "\n",
      "arquivo = open('novo-arquivo.txt', 'w')\n",
      "arquivo.close()\n",
      "Apagar o conteúdo de um arquivo\n",
      "A mesma que a anterior.\n",
      "\n",
      "arquivo = open('novo-arquivo.txt', 'w')\n",
      "arquivo.close()\n",
      "Escrever em um arquivo\n",
      "Se o arquivo já existir ele irá sobrescrever todo o conteúdo.\n",
      "\n",
      "arquivo = open('novo-arquivo.txt', 'w')\n",
      "arquivo.write('nova linha')\n",
      "arquivo.close()\n",
      "Inserir conteúdo ao já existente (adicionar)\n",
      "\n",
      "arquivo = open('nome.txt', 'r') # Abra o arquivo (leitura)\n",
      "conteudo = arquivo.readlines()\n",
      "conteudo.append('Nova linha')   # insira seu conteúdo\n",
      "\n",
      "arquivo = open('nome.txt', 'w') # Abre novamente o arquivo (escrita)\n",
      "arquivo.writelines(conteudo)    # escreva o conteúdo criado anteriormente nele.\n",
      "\n",
      "arquivo.close()\n"
     ]
    }
   ],
   "source": [
    "arquivo = open('dia05', 'r')\n",
    "texto = arquivo.read()\n",
    "print (texto)\n",
    "arquivo.close()"
   ]
  },
  {
   "cell_type": "code",
   "execution_count": 6,
   "id": "5b54bcee",
   "metadata": {},
   "outputs": [],
   "source": [
    "arquivo = open('dia06', 'r', encoding= 'utf-8')\n",
    "while linha != '':\n",
    "    print (linha, end='')\n",
    "    linha = arquivo.readline()\n",
    "arquivo.close()"
   ]
  },
  {
   "cell_type": "code",
   "execution_count": 7,
   "id": "1d3380c4",
   "metadata": {},
   "outputs": [
    {
     "name": "stdout",
     "output_type": "stream",
     "text": [
      "Vídeo aula\n",
      "https://www.youtube.com/watch?v=1m9u10eJ3Mk\n",
      "\n",
      "Receitas para manipular arquivos de texto em Python\n",
      "Receitas rápidas e práticas para quem está com pressa.\n",
      "\n",
      "Se você está tranquilo e quiser entendê-las, sugiro a leitura do artigo Manipulando arquivos de texto em Python.\n",
      "\n",
      "Iterar sobre um arquivo\n",
      "Certifique-se de que o arquivo exista.\n",
      "\n",
      "arquivo = open('arquivo.txt', 'r')\n",
      "for linha in arquivo:\n",
      "    print(linha)\n",
      "arquivo.close()\n",
      "Ler todas as linhas em um única string\n",
      "arquivo = open('arquivo.txt', 'r')\n",
      "unica_string = arquivo.read()\n",
      "arquivo.close()\n",
      "Ler todas as linhas em uma lista\n",
      "arquivo = open('arquivo.txt', 'r')\n",
      "lista = arquivo.readlines() # readlinesssssss\n",
      "arquivo.close()\n",
      "Ler linha a linha do arquivo\n",
      "arquivo = open('arquivo.txt', 'r')\n",
      "primeira_linha = arquivo.readline()\n",
      "segunda_linha  = arquivo.readline()\n",
      "terceira_linha = arquivo.readline()\n",
      "# etc...\n",
      "arquivo.close()\n",
      "Criar um arquivo vazio\n",
      "Certifique-se de que o arquivo não exista, se não ele irá apagar seu conteúdo.\n",
      "\n",
      "arquivo = open('novo-arquivo.txt', 'w')\n",
      "arquivo.close()\n",
      "Apagar o conteúdo de um arquivo\n",
      "A mesma que a anterior.\n",
      "\n",
      "arquivo = open('novo-arquivo.txt', 'w')\n",
      "arquivo.close()\n",
      "Escrever em um arquivo\n",
      "Se o arquivo já existir ele irá sobrescrever todo o conteúdo.\n",
      "\n",
      "arquivo = open('novo-arquivo.txt', 'w')\n",
      "arquivo.write('nova linha')\n",
      "arquivo.close()\n",
      "Inserir conteúdo ao já existente (adicionar)\n",
      "\n",
      "arquivo = open('nome.txt', 'r') # Abra o arquivo (leitura)\n",
      "conteudo = arquivo.readlines()\n",
      "conteudo.append('Nova linha')   # insira seu conteúdo\n",
      "\n",
      "arquivo = open('nome.txt', 'w') # Abre novamente o arquivo (escrita)\n",
      "arquivo.writelines(conteudo)    # escreva o conteúdo criado anteriormente nele.\n",
      "\n",
      "arquivo.close()\n"
     ]
    }
   ],
   "source": [
    "with open('dia05', 'r') as arquivo:\n",
    "    texto = arquivo.read()\n",
    "    print(texto)\n"
   ]
  },
  {
   "cell_type": "code",
   "execution_count": 9,
   "id": "e49b1670",
   "metadata": {},
   "outputs": [],
   "source": [
    "with open('teste_arquivo.txt', 'w', encoding ='utf-8') as arquivo:\n",
    "    arquivo.write('Uma linha qualquer\\n')\n",
    "    arquivo.write('Outra linha qualquer\\n')\n",
    "    arquivo.write('Mais uma linha qualquer\\n')\n",
    "    arquivo.write('Linha qualquer\\n')\n",
    "    "
   ]
  },
  {
   "cell_type": "code",
   "execution_count": 10,
   "id": "f8b7980e",
   "metadata": {},
   "outputs": [],
   "source": [
    "with open('teste_arquivo.txt', 'a', encoding ='utf-8') as arquivo:\n",
    "    arquivo.write('mais uma linha qualquer\\n')"
   ]
  },
  {
   "cell_type": "code",
   "execution_count": 11,
   "id": "d7e23723",
   "metadata": {},
   "outputs": [
    {
     "name": "stdout",
     "output_type": "stream",
     "text": [
      "Uma linha qualquer\n",
      "Outra linha qualquer\n",
      "Mais uma linha qualquer\n",
      "Linha qualquer\n",
      "mais uma linha qualquer\n",
      "\n"
     ]
    }
   ],
   "source": [
    "with open('teste_arquivo.txt', 'r', encoding ='utf-8') as arquivo:\n",
    "    texto = arquivo.read()\n",
    "    print(texto)"
   ]
  }
 ],
 "metadata": {
  "kernelspec": {
   "display_name": "Python 3.9.13 64-bit (microsoft store)",
   "language": "python",
   "name": "python3"
  },
  "language_info": {
   "codemirror_mode": {
    "name": "ipython",
    "version": 3
   },
   "file_extension": ".py",
   "mimetype": "text/x-python",
   "name": "python",
   "nbconvert_exporter": "python",
   "pygments_lexer": "ipython3",
   "version": "3.9.13"
  },
  "vscode": {
   "interpreter": {
    "hash": "3b3835be260164eeba554bc19f29c878e00523816e5d796517ac2a0ae4bba131"
   }
  }
 },
 "nbformat": 4,
 "nbformat_minor": 5
}
