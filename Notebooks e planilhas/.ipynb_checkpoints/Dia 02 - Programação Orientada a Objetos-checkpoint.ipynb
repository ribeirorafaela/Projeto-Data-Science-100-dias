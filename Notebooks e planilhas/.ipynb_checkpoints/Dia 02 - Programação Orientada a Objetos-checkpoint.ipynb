{
 "cells": [
  {
   "cell_type": "markdown",
   "id": "ebf1393f",
   "metadata": {},
   "source": [
    "# **Aula teórica - Programação orientada a objetos POO**\n"
   ]
  },
  {
   "cell_type": "markdown",
   "id": "c9f93725",
   "metadata": {},
   "source": [
    "**Classe** - Uma Classe é uma descrição de um conjunto de objetos que compartilham os mesmos atributos, operações, relacionamentos e semântica."
   ]
  },
  {
   "cell_type": "markdown",
   "id": "4e74faec",
   "metadata": {},
   "source": [
    "**Objeto** - Objetos são instâncias de classes, que determinam qual informação um objeto contém e como ele pode manipulá-la. \n"
   ]
  },
  {
   "cell_type": "markdown",
   "id": "62a64f35",
   "metadata": {},
   "source": [
    "**Atributos** - Atributos de uma classe também conhecido como propriedades, descrevem um intervalo de valores que as instâncias da classe podem apresentar.\n"
   ]
  },
  {
   "cell_type": "markdown",
   "id": "96a1ca7e",
   "metadata": {},
   "source": [
    "**Métodos** - Os métodos são procedimentos ou funções que realizam as ações próprias do objeto."
   ]
  },
  {
   "cell_type": "markdown",
   "id": "933ada39",
   "metadata": {},
   "source": [
    "**Passagem de parâmetros**- As passagens de parâmetros ocorrem a troca de mensagens através da chamada aos métodos de um objeto por outro objeto."
   ]
  },
  {
   "cell_type": "markdown",
   "id": "7d8d9e0c",
   "metadata": {},
   "source": [
    "**Herança**- Uma característica bem pensada como uma família vamos imaginar: a criança, por exemplo, está herdando características de seus pais. "
   ]
  },
  {
   "cell_type": "markdown",
   "id": "c6c30ce3",
   "metadata": {},
   "source": [
    "**Polimorfismo** - Dois objetos, de duas classes diferentes, têm um mesmo método que é implementado de formas diferentes, ou seja, um método possui várias formas, várias implementações diferentes em classes diferentes, mas que possuem o mesmo efeito (\"polimorfismo\" vem do grego poli = muitas, morphos = forma).\n"
   ]
  },
  {
   "cell_type": "markdown",
   "id": "f6815277",
   "metadata": {},
   "source": [
    "**Encapsulamento** -Se trata do fato de esconder as propriedades, criando uma espécie de caixa preta.\n",
    "Sempre com os métodos privados ligadas a métodos especiais chamados getters e setters, que irão retornar e setar o valor da propriedade, respectivamente. O encapsulamento evita o acesso direto a propriedade do objeto, adicionando uma outra camada de segurança à aplicação."
   ]
  },
  {
   "cell_type": "markdown",
   "id": "fb282f5e",
   "metadata": {},
   "source": [
    "**Exemplos:**"
   ]
  },
  {
   "cell_type": "code",
   "execution_count": null,
   "id": "4f341e32",
   "metadata": {},
   "outputs": [],
   "source": [
    "# Exemplo da classe Carro em Python\n",
    "class Carro:\n",
    "    def __init__(self, modelo, mecanismoAceleracao):\n",
    "        self.__modelo = modelo;\n",
    "        self.__velocidade = 0\n",
    "        self.__mecanismoAceleracao = mecanismoAceleracao\n",
    "\n",
    "    def acelerar(self):\n",
    "        mecanismoAceleracao.acelerar()\n",
    "\n",
    "    def frear(self):\n",
    "        # Codigo para frear o carro\n",
    "\n",
    "    def acenderFarol(self):\n",
    "        # Codigo para acender o farol do carro\n",
    "\n",
    "    def getVelocidade(self):\n",
    "        return self.velocidade\n",
    "\n",
    "    def __setVelocidade(self):\n",
    "        # Codigo para alterar a velocidade por dentro do objeto\n",
    "\n",
    "    def getModelo(self):\n",
    "        return self.modelo\n",
    "\n",
    "    def getCor(self):\n",
    "        return self.cor\n",
    "\n",
    "    def setCor(self, cor):\n",
    "        self.cor = cor"
   ]
  },
  {
   "cell_type": "markdown",
   "id": "7f485ec3",
   "metadata": {},
   "source": [
    "**Object Methods:**\n",
    "Objects can also contain methods. Methods in objects are functions that belong to the object.\n",
    "Let us create a method in the Person class:"
   ]
  },
  {
   "cell_type": "code",
   "execution_count": null,
   "id": "cbf51cf7",
   "metadata": {},
   "outputs": [],
   "source": [
    "class Person:\n",
    "  def __init__(self, name, age):\n",
    "    self.name = name\n",
    "    self.age = age\n",
    "\n",
    "  def myfunc(self):\n",
    "    print(\"Hello my name is \" + self.name)\n",
    "\n",
    "p1 = Person(\"John\", 36)\n",
    "\n",
    "p1.age = 40\n",
    "\n",
    "print(p1.age)"
   ]
  },
  {
   "cell_type": "markdown",
   "id": "c8af7b00",
   "metadata": {},
   "source": [
    "**The *self* Parameter:**\n",
    "The self parameter is a reference to the current instance of the class, and is used to access variables that belongs to the class.\n",
    "It does not have to be named self, you can call it whatever you like, but it has to be the first parameter of any function in the class:"
   ]
  },
  {
   "cell_type": "code",
   "execution_count": null,
   "id": "78857030",
   "metadata": {},
   "outputs": [],
   "source": [
    "\n",
    "class Person:\n",
    "  def __init__(mysillyobject, name, age):\n",
    "    mysillyobject.name = name\n",
    "    mysillyobject.age = age\n",
    "\n",
    "  def myfunc(abc):\n",
    "    print(\"Hello my name is \" + abc.name)\n",
    "\n",
    "p1 = Person(\"John\", 36)\n",
    "p1.myfunc()"
   ]
  },
  {
   "cell_type": "markdown",
   "id": "98d5a27b",
   "metadata": {},
   "source": [
    "**Modify Object Properties**"
   ]
  },
  {
   "cell_type": "code",
   "execution_count": null,
   "id": "78ec5e14",
   "metadata": {},
   "outputs": [],
   "source": [
    "\n",
    "\n",
    "class Person:\n",
    "  def __init__(self, name, age):\n",
    "    self.name = name\n",
    "    self.age = age\n",
    "\n",
    "  def myfunc(self):\n",
    "    print(\"Hello my name is \" + self.name)\n",
    "\n",
    "p1 = Person(\"John\", 36)\n",
    "\n",
    "p1.age = 40\n",
    "\n",
    "print(p1.age)\n"
   ]
  },
  {
   "cell_type": "markdown",
   "id": "8aa545bb",
   "metadata": {},
   "source": [
    "**Delete Object Properties**"
   ]
  },
  {
   "cell_type": "code",
   "execution_count": null,
   "id": "5cdfeed2",
   "metadata": {},
   "outputs": [],
   "source": [
    "class Person:\n",
    "  def __init__(self, name, age):\n",
    "    self.name = name\n",
    "    self.age = age\n",
    "\n",
    "  def myfunc(self):\n",
    "    print(\"Hello my name is \" + self.name)\n",
    "\n",
    "p1 = Person(\"John\", 36)\n",
    "\n",
    "del p1.age\n",
    "\n",
    "print(p1.age)\n"
   ]
  },
  {
   "cell_type": "markdown",
   "id": "18a42c21",
   "metadata": {},
   "source": [
    "**The pass Statement**"
   ]
  },
  {
   "cell_type": "code",
   "execution_count": null,
   "id": "fb7701c1",
   "metadata": {},
   "outputs": [],
   "source": [
    "class Person:\n",
    "  pass"
   ]
  },
  {
   "cell_type": "markdown",
   "id": "c26d327b",
   "metadata": {},
   "source": [
    "That's all folks"
   ]
  },
  {
   "cell_type": "markdown",
   "id": "677885ea",
   "metadata": {},
   "source": [
    "Fontes:\n",
    "https://medium.com/@TDamiao/16-conceitos-poo-programa%C3%A7%C3%A3o-orientada-a-objeto-6cdc72ac3ee2\n",
    "https://www.alura.com.br/artigos/poo-programacao-orientada-a-objetos\n",
    "https://www.datascienceacademy.com.br/path-player?courseid=python-fundamentos&unit=5ace2ffe5e4cdec8858b4572Unit\n",
    "https://www.w3schools.com/python/python_classes.asp"
   ]
  }
 ],
 "metadata": {
  "kernelspec": {
   "display_name": "Python 3 (ipykernel)",
   "language": "python",
   "name": "python3"
  },
  "language_info": {
   "codemirror_mode": {
    "name": "ipython",
    "version": 3
   },
   "file_extension": ".py",
   "mimetype": "text/x-python",
   "name": "python",
   "nbconvert_exporter": "python",
   "pygments_lexer": "ipython3",
   "version": "3.9.12"
  }
 },
 "nbformat": 4,
 "nbformat_minor": 5
}
